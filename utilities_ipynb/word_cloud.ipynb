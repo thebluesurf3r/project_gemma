{
 "cells": [
  {
   "cell_type": "code",
   "execution_count": null,
   "metadata": {},
   "outputs": [],
   "source": [
    "from wordcloud import WordCloud\n",
    "\n",
    "def generate_word_cloud(token_counts, lower_bound=None, upper_bound=None):\n",
    "    # Ensure that the count column is of integer type and filter out non-positive counts\n",
    "    token_counts['count'] = token_counts['count'].astype(int)\n",
    "    token_counts = token_counts[token_counts['count'] > 0]\n",
    "\n",
    "    # Filter tokens based on user-defined lower and upper bounds\n",
    "    token_counts = token_counts[(token_counts['count'] >= lower_bound) & (token_counts['count'] <= upper_bound)]\n",
    "\n",
    "    # Check if token_counts is empty after filtering\n",
    "    if token_counts.empty:\n",
    "        logging.warning(\"No tokens found within the specified bounds.\")\n",
    "        return\n",
    "\n",
    "    # Concatenate tokens into a single string based on their frequencies\n",
    "    text = ' '.join([token for token, count in zip(token_counts['token'], token_counts['count']) for _ in range(count)])\n",
    "\n",
    "    # Generate the word cloud image\n",
    "    wordcloud = WordCloud(width=1400, height=800, background_color='black', colormap='viridis').generate(text)\n",
    "\n",
    "    # Convert the word cloud image to a NumPy array\n",
    "    image_array = np.array(wordcloud)\n",
    "\n",
    "    # Create a Plotly figure\n",
    "    fig = go.Figure()\n",
    "\n",
    "    # Add the word cloud image as a trace\n",
    "    fig.add_trace(go.Image(z=image_array))\n",
    "\n",
    "    # Update layout to format the word cloud\n",
    "    fig.update_layout(title='Word Cloud',\n",
    "                      height=800,\n",
    "                      width=1400,\n",
    "                      xaxis=dict(showgrid=False, zeroline=False, showticklabels=False),\n",
    "                      yaxis=dict(showgrid=False, zeroline=False, showticklabels=False),\n",
    "                      template='plotly_dark')\n",
    "\n",
    "    # Show the word cloud\n",
    "    fig.show()\n",
    "\n",
    "    logging.info(\"Word cloud has been displayed successfully!\")\n",
    "\n",
    "# Usage (after analyzing paragraphs):\n",
    "generate_word_cloud(token_counts, lower_bound=50, upper_bound=5000)  # Adjust the bounds as needed"
   ]
  }
 ],
 "metadata": {
  "language_info": {
   "name": "python"
  }
 },
 "nbformat": 4,
 "nbformat_minor": 2
}
