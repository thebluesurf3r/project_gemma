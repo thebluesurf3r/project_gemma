{
 "cells": [
  {
   "cell_type": "code",
   "execution_count": 8,
   "metadata": {},
   "outputs": [],
   "source": [
    "import pandas as pd\n",
    "import logging\n",
    "import time\n",
    "from queue import Queue\n",
    "from threading import Thread\n",
    "from logging.handlers import RotatingFileHandler\n",
    "from logging_configuration import setup_logging, log_df, display_log_df\n"
   ]
  },
  {
   "cell_type": "code",
   "execution_count": 10,
   "metadata": {},
   "outputs": [
    {
     "name": "stderr",
     "output_type": "stream",
     "text": [
      "2024-10-27 12:27:02,875 - INFO - cagliostro_gutenberg.csv imported successfully!\n",
      "2024-10-27 12:27:02,878 - INFO - There are 1775 rows and 8 columns.\n",
      "2024-10-27 12:27:02,906 - INFO - Schema of the loaded dataset:\n",
      "2024-10-27 12:27:02,912 - INFO - \n",
      "+----+---------------+-------------+------------+\n",
      "|    | Column Name   | Data Type   |   n_unique |\n",
      "|----+---------------+-------------+------------|\n",
      "|  0 | id            | int64       |       1775 |\n",
      "|  1 | chapter_title | object      |          1 |\n",
      "|  2 | paragraph     | object      |        908 |\n",
      "|  3 | quote         | float64     |          0 |\n",
      "|  4 | source_url    | object      |          1 |\n",
      "|  5 | created_at    | float64     |          0 |\n",
      "|  6 | title         | object      |          1 |\n",
      "|  7 | content       | float64     |          0 |\n",
      "+----+---------------+-------------+------------+\n"
     ]
    }
   ],
   "source": [
    "# Configure logging\n",
    "logging.basicConfig(level=logging.INFO, format=\"%(asctime)s - %(levelname)s - %(message)s\")\n",
    "\n",
    "def load_data():\n",
    "    file_name = \"cagliostro_gutenberg.csv\"\n",
    "    file_path = os.path.join(\"..\", \"csv\", file_name)\n",
    "\n",
    "    try:\n",
    "        # Check if the file exists\n",
    "        if not os.path.exists(file_path):\n",
    "            logging.error(f\"File not found: {file_path}\")\n",
    "            return None\n",
    "\n",
    "        # Load the dataset\n",
    "        df = pd.read_csv(file_path)\n",
    "        \n",
    "        # Check if the DataFrame is empty\n",
    "        if df.empty:\n",
    "            logging.warning(f\"{file_name} is empty. No data to load.\")\n",
    "            return None\n",
    "\n",
    "        logging.info(f\"{file_name} imported successfully!\")\n",
    "        logging.info(f\"There are {df.shape[0]} rows and {df.shape[1]} columns.\")\n",
    "\n",
    "        # Export schema\n",
    "        schema = df.dtypes.reset_index()\n",
    "        schema.columns = ['Column Name', 'Data Type']\n",
    "\n",
    "        # Get unique values for each column\n",
    "        unique_values = df.nunique()\n",
    "        schema['n_unique'] = unique_values.values\n",
    "\n",
    "        # Log the schema\n",
    "        logging.info(\"Schema of the loaded dataset:\")\n",
    "        logging.info(f\"\\n{tabulate(schema, headers='keys', tablefmt='psql')}\")\n",
    "\n",
    "        return df\n",
    "\n",
    "    except pd.errors.EmptyDataError:\n",
    "        logging.error(\"The file is empty or contains no data.\")\n",
    "    except pd.errors.ParserError:\n",
    "        logging.error(\"Error parsing the CSV file. Please check the file format.\")\n",
    "    except Exception as e:\n",
    "        logging.error(f\"An unexpected error occurred: {str(e)}\")\n",
    "\n",
    "    # Return None if any error occurs\n",
    "    return None\n",
    "\n",
    "# Load the data\n",
    "df = load_data()\n"
   ]
  },
  {
   "cell_type": "code",
   "execution_count": 6,
   "metadata": {},
   "outputs": [
    {
     "data": {
      "text/plain": [
       "(1775, 8)"
      ]
     },
     "execution_count": 6,
     "metadata": {},
     "output_type": "execute_result"
    }
   ],
   "source": [
    "df.shape"
   ]
  },
  {
   "cell_type": "code",
   "execution_count": null,
   "metadata": {},
   "outputs": [],
   "source": []
  }
 ],
 "metadata": {
  "kernelspec": {
   "display_name": "project_gemma-dF4c2h5V",
   "language": "python",
   "name": "python3"
  },
  "language_info": {
   "codemirror_mode": {
    "name": "ipython",
    "version": 3
   },
   "file_extension": ".py",
   "mimetype": "text/x-python",
   "name": "python",
   "nbconvert_exporter": "python",
   "pygments_lexer": "ipython3",
   "version": "3.10.12"
  }
 },
 "nbformat": 4,
 "nbformat_minor": 2
}
