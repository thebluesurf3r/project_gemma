{
 "cells": [
  {
   "cell_type": "code",
   "execution_count": null,
   "metadata": {},
   "outputs": [],
   "source": [
    "# Define custom layout parameters\n",
    "def get_custom_layout():\n",
    "    return {\n",
    "        \"plot_bgcolor\": \"black\",  # Set the background color to black\n",
    "        \"paper_bgcolor\": \"black\",  # Set the paper background color to black\n",
    "        \"font\": {\"family\": \"Arial\", \"size\": 14, \"color\": \"#FFFFFF\"},  # Font settings\n",
    "        \"title\": {\"x\": 0.5},  # Center-align title\n",
    "        \"margin\": {\"t\": 60, \"b\": 40, \"l\": 40, \"r\": 40},  # Tight layout margins\n",
    "        \"xaxis\": {\n",
    "            \"title_font\": {\"size\": 12},\n",
    "            \"tickfont\": {\"size\": 12},\n",
    "            \"showline\": True,  # Show the horizontal line\n",
    "            \"zeroline\": False,  # Hide the vertical line\n",
    "            \"gridcolor\": \"black\"  # Color of the grid lines\n",
    "        },\n",
    "        \"yaxis\": {\n",
    "            \"title_font\": {\"size\": 12},\n",
    "            \"tickfont\": {\"size\": 12},\n",
    "            \"showline\": True,  # Show the horizontal line\n",
    "            \"zeroline\": False,  # Hide the vertical line\n",
    "            \"gridcolor\": \"gray\"  # Color of the grid lines\n",
    "        }\n",
    "    }\n",
    "\n",
    "# Set custom template based on 'plotly_dark' with updated layout\n",
    "custom_layout = {\n",
    "    \"layout\": get_custom_layout()\n",
    "}\n",
    "\n",
    "# Update the Plotly template\n",
    "pio.templates[\"custom_dark\"] = pio.templates[\"plotly_dark\"].update(custom_layout)\n",
    "pio.templates.default = \"custom_dark\"  # Use custom template as default\n",
    "pio.renderers.default = 'notebook'  # Render inline in notebook"
   ]
  }
 ],
 "metadata": {
  "language_info": {
   "name": "python"
  }
 },
 "nbformat": 4,
 "nbformat_minor": 2
}
