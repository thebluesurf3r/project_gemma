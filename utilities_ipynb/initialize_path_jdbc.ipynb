{
 "cells": [
  {
   "cell_type": "code",
   "execution_count": null,
   "metadata": {},
   "outputs": [],
   "source": [
    "def initialize_paths():\n",
    "    \"\"\"\n",
    "    Initializes paths for output and logs the process.\n",
    "    \n",
    "    Returns:\n",
    "        tuple: A tuple containing base_dir, jdbc_dir, and output_path.\n",
    "    \"\"\"\n",
    "    try:\n",
    "        # Initialize base directory\n",
    "        base_dir = os.path.join(os.path.expanduser('~'), 'git', 'project_gemma')\n",
    "        logging.info(f\"Base directory initialized: {base_dir}\")\n",
    "        \n",
    "        # Initialize JDBC directory\n",
    "        jdbc_dir = os.path.join(base_dir, \"jdbc\")\n",
    "        logging.info(f\"JDBC directory initialized: {jdbc_dir}\")\n",
    "        \n",
    "        # Initialize output path\n",
    "        output_path = os.path.join(jdbc_dir, \"output.parquet\")\n",
    "        logging.info(f\"Output path initialized: {output_path}\")\n",
    "        \n",
    "        return base_dir, jdbc_dir, output_path\n",
    "    \n",
    "    except Exception as e:\n",
    "        logging.error(f\"Error initializing paths: {str(e)}\")\n",
    "        raise  # Re-raise the exception after logging\n",
    "\n",
    "# Example usage\n",
    "if __name__ == \"__main__\":\n",
    "    logger = logging.getLogger()\n",
    "    logger.setLevel(logging.INFO)\n",
    "    logging.basicConfig(format='%(asctime)s - %(levelname)s - %(message)s')\n",
    "\n",
    "    base_dir, jdbc_dir, output_path = initialize_paths()"
   ]
  }
 ],
 "metadata": {
  "language_info": {
   "name": "python"
  }
 },
 "nbformat": 4,
 "nbformat_minor": 2
}
