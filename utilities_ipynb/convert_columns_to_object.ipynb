{
 "cells": [
  {
   "cell_type": "code",
   "execution_count": null,
   "metadata": {},
   "outputs": [],
   "source": [
    "def convert_columns_to_object(df, column_indices):\n",
    "    \"\"\"\n",
    "    Convert specified columns of a DataFrame to object dtype.\n",
    "\n",
    "    Parameters:\n",
    "    - df: Pandas DataFrame containing the data.\n",
    "    - column_indices: List of indices of columns to convert to object dtype.\n",
    "    \"\"\"\n",
    "    # Check if the provided column_indices are valid\n",
    "    for idx in column_indices:\n",
    "        if idx < 0 or idx >= df.shape[1]:\n",
    "            logging.warning(f\"Index {idx} is out of bounds for DataFrame with {df.shape[1]} columns.\")\n",
    "            continue  # Skip invalid indices\n",
    "\n",
    "        # Fill NaNs with empty strings before converting\n",
    "        df.iloc[:, idx] = df.iloc[:, idx].fillna('').astype('object')\n",
    "        logging.info(f\"Column at index {idx} converted to object dtype.\")\n",
    "\n",
    "# Example usage:\n",
    "# Assuming 'df' is your DataFrame and you want to convert columns 1 to 6\n",
    "column_indices_to_convert = list(range(1, 7))  # Indices from 1 to 6 (inclusive of 1, exclusive of 7)\n",
    "\n",
    "# Convert specified columns\n",
    "convert_columns_to_object(df, column_indices_to_convert)\n",
    "\n",
    "# Check the DataFrame dtypes after conversion\n",
    "data_types_to_convert = df.dtypes.reset_index()  # Reset index for better display\n",
    "data_types_to_convert.columns = ['Column', 'Data Type']  # Rename columns for clarity\n",
    "print(tabulate(data_types_to_convert, headers='keys', tablefmt='psql'))"
   ]
  }
 ],
 "metadata": {
  "language_info": {
   "name": "python"
  }
 },
 "nbformat": 4,
 "nbformat_minor": 2
}
