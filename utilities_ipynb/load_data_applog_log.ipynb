{
 "cells": [
  {
   "cell_type": "markdown",
   "metadata": {},
   "source": [
    "# Load directly from the app_log.log"
   ]
  },
  {
   "cell_type": "code",
   "execution_count": null,
   "metadata": {
    "vscode": {
     "languageId": "plaintext"
    }
   },
   "outputs": [],
   "source": [
    "def load_log_to_dataframe(log_file):\n",
    "    log_entries = []\n",
    "    log_pattern = re.compile(r'^(?P<timestamp>[\\d-]+\\s[\\d:]+)\\s-\\s(?P<level>\\w+)\\s-\\s(?P<message>.*)$')\n",
    "\n",
    "    with open(log_file, 'r') as file:\n",
    "        for line in file:\n",
    "            match = log_pattern.match(line.strip())\n",
    "            if match:\n",
    "                log_entries.append(match.groupdict())\n",
    "            else:\n",
    "                print(f\"No match for line: {line.strip()}\")  # Debugging line\n",
    "    \n",
    "    if not log_entries:\n",
    "        print(\"No log entries found.\")\n",
    "        return pd.DataFrame()  # Return an empty DataFrame if no logs were found\n",
    "    \n",
    "    df = pd.DataFrame(log_entries)\n",
    "    df['timestamp'] = pd.to_datetime(df['timestamp'])  # Convert to datetime type\n",
    "\n",
    "    return df\n",
    "\n",
    "# Example usage\n",
    "log_file = 'app_log.log'\n",
    "log_df = load_log_to_dataframe(log_file)\n",
    "\n",
    "logging.info(tabulate(log_df, headers='keys', tablefmt='psql'))"
   ]
  }
 ],
 "metadata": {
  "language_info": {
   "name": "python"
  }
 },
 "nbformat": 4,
 "nbformat_minor": 2
}
