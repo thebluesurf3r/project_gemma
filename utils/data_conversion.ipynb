{
 "cells": [
  {
   "cell_type": "code",
   "execution_count": 3,
   "metadata": {},
   "outputs": [],
   "source": [
    "import os\n",
    "from tabulate import tabulate\n",
    "import pandas as pd\n",
    "import logging\n",
    "from logging_configuration import setup_logging, log_df, display_log_df\n",
    "from load_from_csv import load_data\n",
    "\n",
    "#=====================================================================================================================================================#\n",
    "#== Function to Convert Specified Columns of DataFrame to Object dtype ==#\n",
    "\n",
    "def convert_columns_to_object(df, column_indices):\n",
    "    \"\"\"\n",
    "    Convert specified columns of a DataFrame to object dtype.\n",
    "\n",
    "    Parameters:\n",
    "    - df: Pandas DataFrame containing the data.\n",
    "    - column_indices: List of indices of columns to convert to object dtype.\n",
    "    \"\"\"\n",
    "    df = load_data()\n",
    "    # Check if the provided column_indices are valid\n",
    "    for idx in column_indices:\n",
    "        if idx < 0 or idx >= df.shape[1]:\n",
    "            logger.warning(f\"Index {idx} is out of bounds for DataFrame with {df.shape[1]} columns.\")\n",
    "            continue  # Skip invalid indices\n",
    "\n",
    "        # Fill NaNs with empty strings before converting\n",
    "        try:\n",
    "            df.iloc[:, idx] = df.iloc[:, idx].fillna('').astype('object')  # Attempt to convert to object dtype\n",
    "            logger.info(f\"Column at index {idx} converted to object dtype.\")\n",
    "        except Exception as e:\n",
    "            logger.error(f\"Failed to convert column at index {idx} to object dtype: {str(e)}\")  # Log conversion errors"
   ]
  },
  {
   "cell_type": "markdown",
   "metadata": {},
   "source": [
    "### Call the function"
   ]
  },
  {
   "cell_type": "code",
   "execution_count": 9,
   "metadata": {},
   "outputs": [
    {
     "name": "stderr",
     "output_type": "stream",
     "text": [
      "2024-10-27 15:46:58,091 - INFO - cagliostro_gutenberg.csv imported successfully!\n",
      "2024-10-27 15:46:58,093 - INFO - There are 1775 rows and 8 columns.\n",
      "2024-10-27 15:46:58,116 - INFO - Schema of the loaded dataset:\n",
      "2024-10-27 15:46:58,122 - INFO - \n",
      "+----+---------------+-------------+------------+\n",
      "|    | Column Name   | Data Type   |   n_unique |\n",
      "|----+---------------+-------------+------------|\n",
      "|  0 | id            | int64       |       1775 |\n",
      "|  1 | chapter_title | object      |          1 |\n",
      "|  2 | paragraph     | object      |        908 |\n",
      "|  3 | quote         | float64     |          0 |\n",
      "|  4 | source_url    | object      |          1 |\n",
      "|  5 | created_at    | float64     |          0 |\n",
      "|  6 | title         | object      |          1 |\n",
      "|  7 | content       | float64     |          0 |\n",
      "+----+---------------+-------------+------------+\n",
      "2024-10-27 15:46:58,129 - WARNING - Column 'quote' has no unique values and will be dropped.\n",
      "2024-10-27 15:46:58,136 - WARNING - Column 'created_at' has no unique values and will be dropped.\n",
      "2024-10-27 15:46:58,143 - WARNING - Column 'content' has no unique values and will be dropped.\n"
     ]
    }
   ],
   "source": [
    "df = load_data()\n",
    "\n",
    "#=====================================================================================================================================================#\n",
    "#== Convert Columns n1 to n2 of DataFrame ==#\n",
    "\n",
    "# Specify column indices to convert\n",
    "column_indices_to_convert = list(range(1, 7))  # Indices from 1 to 6 (inclusive of 1, exclusive of 7)\n",
    "\n",
    "# Convert specified columns\n",
    "#convert_columns_to_object(df, column_indices_to_convert)\n",
    "\n",
    "#=====================================================================================================================================================#\n",
    "#== Check and Display the DataFrame dtypes After Conversion ==#\n",
    "\n",
    "# Reset index for better display of DataFrame dtypes\n",
    "#data_types_to_convert = df.dtypes.reset_index()\n",
    "#data_types_to_convert.columns = ['Column', 'Data Type']  # Rename columns for clarity\n",
    "\n",
    "# Data types in a formatted table\n",
    "#logging.info(tabulate(data_types_to_convert, headers='keys', tablefmt='psql'))\n"
   ]
  },
  {
   "cell_type": "code",
   "execution_count": null,
   "metadata": {},
   "outputs": [],
   "source": []
  }
 ],
 "metadata": {
  "kernelspec": {
   "display_name": "project_gemma-dF4c2h5V",
   "language": "python",
   "name": "python3"
  },
  "language_info": {
   "codemirror_mode": {
    "name": "ipython",
    "version": 3
   },
   "file_extension": ".py",
   "mimetype": "text/x-python",
   "name": "python",
   "nbconvert_exporter": "python",
   "pygments_lexer": "ipython3",
   "version": "3.10.12"
  }
 },
 "nbformat": 4,
 "nbformat_minor": 2
}
