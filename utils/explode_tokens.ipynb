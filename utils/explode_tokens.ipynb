{
 "cells": [
  {
   "cell_type": "code",
   "execution_count": null,
   "metadata": {},
   "outputs": [],
   "source": [
    "import pandas as pd\n",
    "import logging\n",
    "from logging_configuration import setup_logging, log_df\n",
    "from load_from_csv import load_data\n",
    "from tabulate import tabulate\n",
    "from tabulate_style import tab_fmt\n",
    "\n",
    "#=====================================================================================================================================================#\n",
    "#== Configure logging with specified log file and level ==#\n",
    "logger = setup_logging(log_file='app_log.log', log_level=logging.INFO)"
   ]
  },
  {
   "cell_type": "code",
   "execution_count": 1,
   "metadata": {},
   "outputs": [
    {
     "name": "stderr",
     "output_type": "stream",
     "text": [
      "2024-10-27 13:49:25,827 - INFO - Logging initialized and set up successfully.\n",
      "2024-10-27 13:49:25,830 - INFO - Viewing the log: <function display_log_df at 0x723c64ba3520>\n"
     ]
    },
    {
     "name": "stdout",
     "output_type": "stream",
     "text": [
      "Empty DataFrame\n",
      "Columns: [timestamp, level, message]\n",
      "Index: []\n"
     ]
    }
   ],
   "source": [
    "\n",
    "#=====================================================================================================================================================#\n",
    "#== Function to Explode Specified Column of DataFrame into Tokens ==#\n",
    "def explode_to_tokens(df, column='paragraph'):\n",
    "    \"\"\"\n",
    "    Explodes the specified column of a DataFrame into tokens.\n",
    "\n",
    "    Parameters:\n",
    "    - df (pd.DataFrame): The input DataFrame containing the text data.\n",
    "    - column (str): The column name to be exploded into tokens (default is 'paragraph').\n",
    "\n",
    "    Returns:\n",
    "    - pd.DataFrame: A DataFrame containing tokens, with each token in a separate row.\n",
    "    \"\"\"\n",
    "    # Check if the specified column exists in the DataFrame\n",
    "    if column not in df.columns:\n",
    "        raise ValueError(f\"Column '{column}' not found in DataFrame.\")\n",
    "\n",
    "    # Explode the specified column into tokens and reset the index\n",
    "    tokens_df = df[column].str.split(' ').explode().reset_index(drop=True)\n",
    "    \n",
    "    return tokens_df"
   ]
  },
  {
   "cell_type": "markdown",
   "metadata": {},
   "source": [
    "### Calling the function via tabulate_style"
   ]
  },
  {
   "cell_type": "code",
   "execution_count": 2,
   "metadata": {},
   "outputs": [
    {
     "name": "stderr",
     "output_type": "stream",
     "text": [
      "2024-10-27 13:49:28,424 - INFO - cagliostro_gutenberg.csv imported successfully!\n",
      "2024-10-27 13:49:28,426 - INFO - There are 1775 rows and 8 columns.\n",
      "2024-10-27 13:49:28,451 - INFO - Schema of the loaded dataset:\n",
      "2024-10-27 13:49:28,458 - INFO - \n",
      "+----+---------------+-------------+------------+\n",
      "|    | Column Name   | Data Type   |   n_unique |\n",
      "|----+---------------+-------------+------------|\n",
      "|  0 | id            | int64       |       1775 |\n",
      "|  1 | chapter_title | object      |          1 |\n",
      "|  2 | paragraph     | object      |        908 |\n",
      "|  3 | quote         | float64     |          0 |\n",
      "|  4 | source_url    | object      |          1 |\n",
      "|  5 | created_at    | float64     |          0 |\n",
      "|  6 | title         | object      |          1 |\n",
      "|  7 | content       | float64     |          0 |\n",
      "+----+---------------+-------------+------------+\n",
      "2024-10-27 13:49:28,464 - WARNING - Column 'quote' has no unique values and will be dropped.\n",
      "2024-10-27 13:49:28,470 - WARNING - Column 'created_at' has no unique values and will be dropped.\n",
      "2024-10-27 13:49:28,476 - WARNING - Column 'content' has no unique values and will be dropped.\n"
     ]
    }
   ],
   "source": [
    "#=====================================================================================================================================================#\n",
    "#== Preview the main dataframe ==#\n",
    "df = load_data()"
   ]
  },
  {
   "cell_type": "code",
   "execution_count": 7,
   "metadata": {},
   "outputs": [
    {
     "name": "stderr",
     "output_type": "stream",
     "text": [
      "2024-10-27 13:50:00,995 - INFO - +----+------+-----------------+-----------------------------------------------------------+----------------------------------------------------------------+------------+\n",
      "|    |   id | chapter_title   | paragraph                                                 | source_url                                                     | title      |\n",
      "+====+======+=================+===========================================================+================================================================+============+\n",
      "|  0 |   24 | CHAPTER I       | THE POWER OF PREJUDICE                                    | https://www.gutenberg.org/cache/epub/74618/pg74618-images.html | CAGLIOSTRO |\n",
      "+----+------+-----------------+-----------------------------------------------------------+----------------------------------------------------------------+------------+\n",
      "|  1 |   25 | CHAPTER I       | I                                                         | https://www.gutenberg.org/cache/epub/74618/pg74618-images.html | CAGLIOSTRO |\n",
      "+----+------+-----------------+-----------------------------------------------------------+----------------------------------------------------------------+------------+\n",
      "|  2 |   26 | CHAPTER I       | Themention of Cagliostro always suggests the              | https://www.gutenberg.org/cache/epub/74618/pg74618-images.html | CAGLIOSTRO |\n",
      "|    |      |                 | marvellous, the mysterious, the unknown. There is         |                                                                |            |\n",
      "|    |      |                 | something cabalistic in the very sound of the name        |                                                                |            |\n",
      "|    |      |                 | that, considering the occult phenomena performed by       |                                                                |            |\n",
      "|    |      |                 | the strange personality who assumed it, is curiously      |                                                                |            |\n",
      "|    |      |                 | appropriate. As anincognitoit is, perhaps, the most       |                                                                |            |\n",
      "|    |      |                 | suitable ever invented. The name fits the man like        |                                                                |            |\n",
      "|    |      |                 | a glove; and, recalling the mystery in which his          |                                                                |            |\n",
      "|    |      |                 | career was wrapped, one involuntarily wonders if it has   |                                                                |            |\n",
      "|    |      |                 | ever been cleared up. In a word, what was Cagliostro      |                                                                |            |\n",
      "|    |      |                 | really? Charlatan, adventurer, swindler, whose impostures |                                                                |            |\n",
      "|    |      |                 | were finally exposed by the ever-memorable                |                                                                |            |\n",
      "|    |      |                 | Necklace Affair in which he was implicated? Or            |                                                                |            |\n",
      "|    |      |                 | “friend of humanity,” as he claimed, whose benefactions   |                                                                |            |\n",
      "|    |      |                 | excited the enmity of the envious, who took               |                                                                |            |\n",
      "|    |      |                 | advantage of his misfortunes to calumniate and ruin       |                                                                |            |\n",
      "|    |      |                 | him? Knave, or martyr—which?                              |                                                                |            |\n",
      "+----+------+-----------------+-----------------------------------------------------------+----------------------------------------------------------------+------------+\n"
     ]
    }
   ],
   "source": [
    "tab_fmt(df, 3, style='grid')"
   ]
  },
  {
   "cell_type": "code",
   "execution_count": 4,
   "metadata": {},
   "outputs": [],
   "source": [
    "#=====================================================================================================================================================#\n",
    "#== Explode the Specified Column into Tokens ==#\n",
    "tokens_df = explode_to_tokens(df, column='paragraph')"
   ]
  },
  {
   "cell_type": "code",
   "execution_count": 5,
   "metadata": {},
   "outputs": [
    {
     "name": "stderr",
     "output_type": "stream",
     "text": [
      "2024-10-27 13:49:32,598 - INFO - +---------+-------------+\n",
      "|   index | paragraph   |\n",
      "+=========+=============+\n",
      "|       0 | THE         |\n",
      "+---------+-------------+\n",
      "|       1 | POWER       |\n",
      "+---------+-------------+\n",
      "|       2 | OF          |\n",
      "+---------+-------------+\n",
      "|       3 | PREJUDICE   |\n",
      "+---------+-------------+\n",
      "|       4 | I           |\n",
      "+---------+-------------+\n"
     ]
    }
   ],
   "source": [
    "tab_fmt(tokens_df, 5, style='grid')"
   ]
  },
  {
   "cell_type": "code",
   "execution_count": null,
   "metadata": {},
   "outputs": [],
   "source": []
  }
 ],
 "metadata": {
  "kernelspec": {
   "display_name": "project_gemma-dF4c2h5V",
   "language": "python",
   "name": "python3"
  },
  "language_info": {
   "codemirror_mode": {
    "name": "ipython",
    "version": 3
   },
   "file_extension": ".py",
   "mimetype": "text/x-python",
   "name": "python",
   "nbconvert_exporter": "python",
   "pygments_lexer": "ipython3",
   "version": "3.10.12"
  }
 },
 "nbformat": 4,
 "nbformat_minor": 2
}
