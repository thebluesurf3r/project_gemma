{
 "cells": [
  {
   "cell_type": "code",
   "execution_count": 1,
   "metadata": {},
   "outputs": [
    {
     "name": "stderr",
     "output_type": "stream",
     "text": [
      "2024-10-27 14:20:44,189 - INFO - Logging initialized and set up successfully.\n",
      "2024-10-27 14:20:44,192 - INFO - Viewing the log: <function display_log_df at 0x7d7668bdacb0>\n"
     ]
    },
    {
     "name": "stdout",
     "output_type": "stream",
     "text": [
      "Empty DataFrame\n",
      "Columns: [timestamp, level, message]\n",
      "Index: []\n"
     ]
    }
   ],
   "source": [
    "import logging\n",
    "import os\n",
    "import sys\n",
    "from tabulate import tabulate\n",
    "import plotly.io as pio\n",
    "import plotly.graph_objects as go\n",
    "import plotly.express as px\n",
    "\n",
    "sys.path.append(os.path.abspath(os.path.join('..', 'utils')))  # Adjust the path based on your structure\n",
    "from logging_configuration import setup_logging\n",
    "from load_from_csv import load_data\n",
    "from tabulate_style import tab_fmt"
   ]
  },
  {
   "cell_type": "code",
   "execution_count": 2,
   "metadata": {},
   "outputs": [],
   "source": [
    "#=====================================================================================================================================================#\n",
    "#== Analyze token distribution and stats ==#\n",
    "\n",
    "# Define custom layout parameters\n",
    "def get_custom_layout():\n",
    "    return {\n",
    "        \"height\": 800,  # Use ':' instead of '='\n",
    "        \"width\": 1400,  # Use ':' instead of '='\n",
    "        \"plot_bgcolor\": \"black\",  # Set the background color to black\n",
    "        \"paper_bgcolor\": \"black\",  # Set the paper background color to black\n",
    "        \"font\": {\"family\": \"Arial\", \"size\": 14, \"color\": \"#FFFFFF\"},  # Font settings\n",
    "        \"title\": {\"x\": 0.5},  # Center-align title\n",
    "        \"margin\": {\"t\": 60, \"b\": 40, \"l\": 40, \"r\": 40},  # Tight layout margins\n",
    "        \"xaxis\": {\n",
    "            \"title_font\": {\"size\": 12},\n",
    "            \"tickfont\": {\"size\": 12},\n",
    "            \"showline\": True,  # Show the horizontal line\n",
    "            \"zeroline\": False,  # Hide the vertical line\n",
    "            \"gridcolor\": \"black\"  # Color of the grid lines\n",
    "        },\n",
    "        \"yaxis\": {\n",
    "            \"title_font\": {\"size\": 12},\n",
    "            \"tickfont\": {\"size\": 12},\n",
    "            \"showline\": True,  # Show the horizontal line\n",
    "            \"zeroline\": False,  # Hide the vertical line\n",
    "            \"gridcolor\": \"gray\"  # Color of the grid lines\n",
    "        }\n",
    "    }\n",
    "\n",
    "# Set custom template based on 'plotly_dark' with updated layout\n",
    "def set_custom_template():\n",
    "    custom_layout = {\n",
    "        \"layout\": get_custom_layout()\n",
    "    }\n",
    "\n",
    "    # Update the Plotly template\n",
    "    pio.templates[\"custom_dark\"] = pio.templates[\"plotly_dark\"].update(custom_layout)\n",
    "    pio.templates.default = \"custom_dark\"  # Use custom template as default\n",
    "    pio.renderers.default = 'notebook'  # Render inline in notebook\n",
    "\n",
    "# Call the function to set the custom template\n",
    "#set_custom_template()  # Ensure this function is called to apply the template"
   ]
  },
  {
   "cell_type": "code",
   "execution_count": null,
   "metadata": {},
   "outputs": [],
   "source": []
  }
 ],
 "metadata": {
  "kernelspec": {
   "display_name": "project_gemma-dF4c2h5V",
   "language": "python",
   "name": "python3"
  },
  "language_info": {
   "codemirror_mode": {
    "name": "ipython",
    "version": 3
   },
   "file_extension": ".py",
   "mimetype": "text/x-python",
   "name": "python",
   "nbconvert_exporter": "python",
   "pygments_lexer": "ipython3",
   "version": "3.10.12"
  }
 },
 "nbformat": 4,
 "nbformat_minor": 2
}
